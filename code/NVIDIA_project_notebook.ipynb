{
  "nbformat": 4,
  "nbformat_minor": 0,
  "metadata": {
    "colab": {
      "name": "DM_NVIDIA_best.ipynb",
      "provenance": [],
      "collapsed_sections": []
    },
    "kernelspec": {
      "name": "python3",
      "display_name": "Python 3"
    },
    "deepnote_notebook_id": "71e01a22-4597-4afd-a9c5-4cae3388d346",
    "deepnote_execution_queue": [
      {
        "cellId": "00019-b9cad50d-5cec-40f6-8f44-44ecd7281ec6",
        "sessionId": "e7f731c2-c05a-4b44-987d-ac400f63fbd6",
        "msgId": "011a9497-bbdd-4d33-9fe6-b4bd6dad7e74"
      },
      {
        "cellId": "00006-61ba8fc0-0df6-41fb-8291-198e9a45bbd1",
        "sessionId": "d8913f2f-e7ce-430f-836f-ec0ef94b6f52",
        "msgId": "88fa7058-0b93-4040-b7b4-62f3251bf82f"
      }
    ]
  },
  "cells": [
    {
      "cell_type": "markdown",
      "metadata": {
        "deepnote_cell_type": "markdown",
        "id": "DNMpRMOnadcQ",
        "cell_id": "00000-3b0bcfa4-e33e-4bfe-a342-5f48af4cfb16",
        "output_cleared": false
      },
      "source": [
        "# Data Mining & Machine Learning Project - Group Nvidia\n",
        "## By Adrian Sestan, Hugo Macedo & Igor Ranisavljevic"
      ]
    },
    {
      "cell_type": "code",
      "metadata": {
        "deepnote_cell_type": "code",
        "id": "L5QXvMkfaaLd",
        "cell_id": "00001-4f8c42ed-19d2-4dda-b565-cb3edcf8d024",
        "output_cleared": false,
        "source_hash": "bc6323f8",
        "execution_millis": 894,
        "execution_start": 1606210742396
      },
      "source": [
        "import pandas as pd\n",
        "from sklearn.feature_extraction.text import CountVectorizer,TfidfVectorizer\n",
        "from sklearn.base import TransformerMixin\n",
        "from sklearn.pipeline import Pipeline\n",
        "import spacy\n",
        "from sklearn.base import TransformerMixin\n",
        "from sklearn.pipeline import Pipeline\n",
        "import string\n",
        "from spacy.lang.en.stop_words import STOP_WORDS\n",
        "from spacy.lang.en import English\n",
        "from sklearn.model_selection import train_test_split\n",
        "from sklearn.linear_model import LogisticRegression\n",
        "from sklearn.metrics import confusion_matrix, accuracy_score, precision_score, recall_score, f1_score\n",
        "import re, string, unicodedata\n",
        "import gensim\n",
        "from sklearn.preprocessing import LabelEncoder, OneHotEncoder, StandardScaler\n",
        "from sklearn.linear_model import LogisticRegressionCV\n",
        "from sklearn import datasets\n",
        "from sklearn.utils.multiclass import unique_labels\n",
        "import numpy as np\n",
        "import matplotlib.pyplot as plt"
      ],
      "execution_count": 59,
      "outputs": []
    },
    {
      "cell_type": "code",
      "metadata": {
        "deepnote_cell_type": "code",
        "id": "2G4prUF0O_OV",
        "colab": {
          "base_uri": "https://localhost:8080/",
          "height": 392
        },
        "cell_id": "00002-62a728cd-57f3-4c61-8566-ccfdcdd8ffee",
        "output_cleared": false,
        "source_hash": "d1c37bcd",
        "execution_millis": 180,
        "execution_start": 1606210743294,
        "outputId": "757e1035-dc96-414a-a818-d08fb010f565"
      },
      "source": [
        "path = \"https://raw.githubusercontent.com/TetraFaal/DMML-Project-Nvidia/master/data/82653de5-2ed1-4782-959e-23eba75d67a9_training_data.csv\"\n",
        "df = pd.read_csv(path)\n",
        "df.keyword.fillna('#', inplace=True)\n",
        "df['x'] = df['keyword']+ ' ' + df['text'] \n",
        "df.drop('text',axis='columns', inplace=True)\n",
        "df = df.rename({'x': 'text'}, axis=1)\n",
        "df['text'] = df['text'].str.replace('nan', \"\")\n",
        "df\n"
      ],
      "execution_count": 60,
      "outputs": [
        {
          "output_type": "execute_result",
          "data": {
            "text/html": [
              "<div>\n",
              "<style scoped>\n",
              "    .dataframe tbody tr th:only-of-type {\n",
              "        vertical-align: middle;\n",
              "    }\n",
              "\n",
              "    .dataframe tbody tr th {\n",
              "        vertical-align: top;\n",
              "    }\n",
              "\n",
              "    .dataframe thead th {\n",
              "        text-align: right;\n",
              "    }\n",
              "</style>\n",
              "<table border=\"1\" class=\"dataframe\">\n",
              "  <thead>\n",
              "    <tr style=\"text-align: right;\">\n",
              "      <th></th>\n",
              "      <th>id</th>\n",
              "      <th>keyword</th>\n",
              "      <th>location</th>\n",
              "      <th>target</th>\n",
              "      <th>text</th>\n",
              "    </tr>\n",
              "  </thead>\n",
              "  <tbody>\n",
              "    <tr>\n",
              "      <th>0</th>\n",
              "      <td>3738</td>\n",
              "      <td>destroyed</td>\n",
              "      <td>USA</td>\n",
              "      <td>0</td>\n",
              "      <td>destroyed Black Eye 9: A space battle occurred...</td>\n",
              "    </tr>\n",
              "    <tr>\n",
              "      <th>1</th>\n",
              "      <td>853</td>\n",
              "      <td>bioterror</td>\n",
              "      <td>NaN</td>\n",
              "      <td>0</td>\n",
              "      <td>bioterror #world FedEx no longer to transport ...</td>\n",
              "    </tr>\n",
              "    <tr>\n",
              "      <th>2</th>\n",
              "      <td>10540</td>\n",
              "      <td>windstorm</td>\n",
              "      <td>Palm Beach County, FL</td>\n",
              "      <td>1</td>\n",
              "      <td>windstorm Reality Training: Train falls off el...</td>\n",
              "    </tr>\n",
              "    <tr>\n",
              "      <th>3</th>\n",
              "      <td>5988</td>\n",
              "      <td>hazardous</td>\n",
              "      <td>USA</td>\n",
              "      <td>1</td>\n",
              "      <td>hazardous #Taiwan Grace: expect that large roc...</td>\n",
              "    </tr>\n",
              "    <tr>\n",
              "      <th>4</th>\n",
              "      <td>6328</td>\n",
              "      <td>hostage</td>\n",
              "      <td>Australia</td>\n",
              "      <td>1</td>\n",
              "      <td>hostage New ISIS Video: ISIS Threatens to Behe...</td>\n",
              "    </tr>\n",
              "    <tr>\n",
              "      <th>...</th>\n",
              "      <td>...</td>\n",
              "      <td>...</td>\n",
              "      <td>...</td>\n",
              "      <td>...</td>\n",
              "      <td>...</td>\n",
              "    </tr>\n",
              "    <tr>\n",
              "      <th>6466</th>\n",
              "      <td>4377</td>\n",
              "      <td>earthquake</td>\n",
              "      <td>ARGENTINA</td>\n",
              "      <td>1</td>\n",
              "      <td>earthquake #Earthquake #Sismo M 1.9 - 15km E o...</td>\n",
              "    </tr>\n",
              "    <tr>\n",
              "      <th>6467</th>\n",
              "      <td>3408</td>\n",
              "      <td>derail</td>\n",
              "      <td>NaN</td>\n",
              "      <td>0</td>\n",
              "      <td>derail @EmiiliexIrwin Totally agree.She is 23 ...</td>\n",
              "    </tr>\n",
              "    <tr>\n",
              "      <th>6468</th>\n",
              "      <td>9794</td>\n",
              "      <td>trapped</td>\n",
              "      <td>NaN</td>\n",
              "      <td>1</td>\n",
              "      <td>trapped Hollywood Movie About Trapped Miners R...</td>\n",
              "    </tr>\n",
              "    <tr>\n",
              "      <th>6469</th>\n",
              "      <td>10344</td>\n",
              "      <td>weapons</td>\n",
              "      <td>Beirut/Toronto</td>\n",
              "      <td>1</td>\n",
              "      <td>weapons Friendly reminder that the only countr...</td>\n",
              "    </tr>\n",
              "    <tr>\n",
              "      <th>6470</th>\n",
              "      <td>1779</td>\n",
              "      <td>buildings%20on%20fire</td>\n",
              "      <td>NaN</td>\n",
              "      <td>1</td>\n",
              "      <td>buildings%20on%20fire Buildings are on fire an...</td>\n",
              "    </tr>\n",
              "  </tbody>\n",
              "</table>\n",
              "<p>6471 rows × 5 columns</p>\n",
              "</div>"
            ],
            "text/plain": [
              "         id  ...                                               text\n",
              "0      3738  ...  destroyed Black Eye 9: A space battle occurred...\n",
              "1       853  ...  bioterror #world FedEx no longer to transport ...\n",
              "2     10540  ...  windstorm Reality Training: Train falls off el...\n",
              "3      5988  ...  hazardous #Taiwan Grace: expect that large roc...\n",
              "4      6328  ...  hostage New ISIS Video: ISIS Threatens to Behe...\n",
              "...     ...  ...                                                ...\n",
              "6466   4377  ...  earthquake #Earthquake #Sismo M 1.9 - 15km E o...\n",
              "6467   3408  ...  derail @EmiiliexIrwin Totally agree.She is 23 ...\n",
              "6468   9794  ...  trapped Hollywood Movie About Trapped Miners R...\n",
              "6469  10344  ...  weapons Friendly reminder that the only countr...\n",
              "6470   1779  ...  buildings%20on%20fire Buildings are on fire an...\n",
              "\n",
              "[6471 rows x 5 columns]"
            ]
          },
          "metadata": {
            "tags": []
          },
          "execution_count": 60
        }
      ]
    },
    {
      "cell_type": "code",
      "metadata": {
        "deepnote_cell_type": "code",
        "id": "Cnj_ZJdbgWjU",
        "colab": {
          "base_uri": "https://localhost:8080/"
        },
        "cell_id": "00003-4668e5eb-0e2d-4d26-bd54-6d56c2b73899",
        "output_cleared": false,
        "source_hash": "9f70b79b",
        "execution_millis": 136,
        "execution_start": 1606210743477,
        "outputId": "72f5b2f8-9340-4734-a367-366a13e0110a"
      },
      "source": [
        "path_test = \"https://raw.githubusercontent.com/TetraFaal/DMML-Project-Nvidia/master/data/5fc21f33-b209-4b07-ad70-a69020dfd2cf_test_data.csv\"\n",
        "df_test = pd.read_csv(path_test)\n",
        "df_test.keyword.fillna('#', inplace=True)\n",
        "df_test['x'] = df_test['keyword']+ ' ' + df_test['text'] \n",
        "df_test.drop('text',axis='columns', inplace=True)\n",
        "df_test = df_test.rename({'x': 'text'}, axis=1) \n",
        "df_test['text'] = df_test['text'].str.replace('nan', \"\")\n",
        "df_test['text']"
      ],
      "execution_count": 61,
      "outputs": [
        {
          "output_type": "execute_result",
          "data": {
            "text/plain": [
              "0       tsunami Crptotech tsunami and banks.\\n http://...\n",
              "1       traumatised I'm that traumatised that I can't ...\n",
              "2       burning%20buildings @foxnewsvideo @AIIAmerican...\n",
              "3       desolate Me watching Law &amp; Order (IB: @sau...\n",
              "4               crushed Papi absolutely crushed that ball\n",
              "                              ...                        \n",
              "1137    derailed @ItsQueenBaby I'm at work it's a bunc...\n",
              "1138    suicide%20bomber #?? #?? #??? #??? Suicide bom...\n",
              "1139    volcano Eruption of Indonesian volcano sparks ...\n",
              "1140    fear Never let fear get in the way of achievin...\n",
              "1141    refugees wowo--=== 12000 Nigerian refugees rep...\n",
              "Name: text, Length: 1142, dtype: object"
            ]
          },
          "metadata": {
            "tags": []
          },
          "execution_count": 61
        }
      ]
    },
    {
      "cell_type": "code",
      "metadata": {
        "deepnote_cell_type": "code",
        "id": "OZGFKLVSQ8sK",
        "colab": {
          "base_uri": "https://localhost:8080/",
          "height": 688
        },
        "cell_id": "00004-82d5ffaa-c8d9-49cf-b5ed-a1f2661fdee8",
        "output_cleared": false,
        "source_hash": "801e49b",
        "execution_millis": 12,
        "execution_start": 1606210743658,
        "outputId": "e536251f-cad3-4d1f-e820-c817d63785c8"
      },
      "source": [
        "display(df.shape, df.info(), df.describe, df.keyword.value_counts())"
      ],
      "execution_count": 62,
      "outputs": [
        {
          "output_type": "stream",
          "text": [
            "<class 'pandas.core.frame.DataFrame'>\n",
            "RangeIndex: 6471 entries, 0 to 6470\n",
            "Data columns (total 5 columns):\n",
            " #   Column    Non-Null Count  Dtype \n",
            "---  ------    --------------  ----- \n",
            " 0   id        6471 non-null   int64 \n",
            " 1   keyword   6471 non-null   object\n",
            " 2   location  4330 non-null   object\n",
            " 3   target    6471 non-null   int64 \n",
            " 4   text      6471 non-null   object\n",
            "dtypes: int64(2), object(3)\n",
            "memory usage: 252.9+ KB\n"
          ],
          "name": "stdout"
        },
        {
          "output_type": "display_data",
          "data": {
            "text/plain": [
              "(6471, 5)"
            ]
          },
          "metadata": {
            "tags": []
          }
        },
        {
          "output_type": "display_data",
          "data": {
            "text/plain": [
              "None"
            ]
          },
          "metadata": {
            "tags": []
          }
        },
        {
          "output_type": "display_data",
          "data": {
            "text/plain": [
              "<bound method NDFrame.describe of          id  ...                                               text\n",
              "0      3738  ...  destroyed Black Eye 9: A space battle occurred...\n",
              "1       853  ...  bioterror #world FedEx no longer to transport ...\n",
              "2     10540  ...  windstorm Reality Training: Train falls off el...\n",
              "3      5988  ...  hazardous #Taiwan Grace: expect that large roc...\n",
              "4      6328  ...  hostage New ISIS Video: ISIS Threatens to Behe...\n",
              "...     ...  ...                                                ...\n",
              "6466   4377  ...  earthquake #Earthquake #Sismo M 1.9 - 15km E o...\n",
              "6467   3408  ...  derail @EmiiliexIrwin Totally agree.She is 23 ...\n",
              "6468   9794  ...  trapped Hollywood Movie About Trapped Miners R...\n",
              "6469  10344  ...  weapons Friendly reminder that the only countr...\n",
              "6470   1779  ...  buildings%20on%20fire Buildings are on fire an...\n",
              "\n",
              "[6471 rows x 5 columns]>"
            ]
          },
          "metadata": {
            "tags": []
          }
        },
        {
          "output_type": "display_data",
          "data": {
            "text/plain": [
              "#                        55\n",
              "deluge                   39\n",
              "earthquake               38\n",
              "collision                37\n",
              "harm                     37\n",
              "                         ..\n",
              "demolished               18\n",
              "epicentre                10\n",
              "threat                   10\n",
              "radiation%20emergency     9\n",
              "inundation                6\n",
              "Name: keyword, Length: 222, dtype: int64"
            ]
          },
          "metadata": {
            "tags": []
          }
        }
      ]
    },
    {
      "cell_type": "code",
      "metadata": {
        "deepnote_cell_type": "code",
        "id": "fRUoMUE_UEPi",
        "colab": {
          "base_uri": "https://localhost:8080/"
        },
        "cell_id": "00005-0f3fa902-4094-4da9-afdd-a7d39a4c3fe1",
        "output_cleared": false,
        "source_hash": "ccd71d00",
        "execution_millis": 0,
        "execution_start": 1606210743715,
        "outputId": "f815fcf6-7e99-4683-fe91-21335516fb18"
      },
      "source": [
        "max(len(df[df[\"target\"] == 1]) / len(df), len(df[df[\"target\"] == 0]) / len(df))"
      ],
      "execution_count": 63,
      "outputs": [
        {
          "output_type": "execute_result",
          "data": {
            "text/plain": [
              "0.5719363313243703"
            ]
          },
          "metadata": {
            "tags": []
          },
          "execution_count": 63
        }
      ]
    },
    {
      "cell_type": "code",
      "metadata": {
        "deepnote_cell_type": "code",
        "id": "kNw5SJzoSA3F",
        "cell_id": "00006-a7c45c28-dc8c-409d-89f8-e0f034b8e22f",
        "output_cleared": false,
        "source_hash": "f2eeafd3",
        "execution_millis": 611,
        "execution_start": 1606210743716
      },
      "source": [
        "sp = spacy.load('en_core_web_sm')\n",
        "import re\n",
        "# Create tokenizer function\n",
        "def spacy_tokenizer(text):\n",
        "\n",
        "    # Define stopwords, punctuation, and numbers\n",
        "    stop_words = spacy.lang.en.stop_words.STOP_WORDS\n",
        "    punctuations = string.punctuation\n",
        "    numbers = \"0123456789\"\n",
        "    mentions = \"(@[A-Za-z0–9]+)|([⁰-9A-Za-z \\t])|(\\w+:\\/\\/\\S+)\" \n",
        "\n",
        "    # Create spacy object\n",
        "    mytokens = sp(text)\n",
        "\n",
        "    # Lemmatize each token and convert each token into lowercase\n",
        "    mytokens = [ word.lemma_.lower().strip() if word.lemma_ != \"-PRON-\" else word.lower_ for word in mytokens ]\n",
        "\n",
        "    # Remove stop words and punctuation\n",
        "    mytokens = [ word for word in mytokens if word not in stop_words and word not in punctuations ]\n",
        "    mytokens = [ word for word in mytokens if word not in mentions ]\n",
        "\n",
        "    mytokens = [ word.replace('xx/', '').replace('xxxx/', '').replace('xx', '') for word in mytokens ]\n",
        "    mytokens = [ word for word in mytokens if word not in [\"xxxx\", \"xx\", \"\"] ]\n",
        "\n",
        "      # Remove sufix like \".[1\" in \"experience.[1\"\n",
        "    mytokens_2 = []\n",
        "    for word in mytokens:\n",
        "      for char in word:\n",
        "        if (char in punctuations) or (char in numbers):\n",
        "          word = word.replace(char, \"\")\n",
        "      if word != \"\":\n",
        "        mytokens_2.append(word)\n",
        "\n",
        "    # Return preprocessed list of tokens\n",
        "    return mytokens_2\n"
      ],
      "execution_count": 64,
      "outputs": []
    },
    {
      "cell_type": "code",
      "metadata": {
        "deepnote_cell_type": "code",
        "tags": [],
        "cell_id": "00009-f701945b-42df-4f64-b49c-2a4f55db7fa3",
        "output_cleared": false,
        "source_hash": "6960c64c",
        "execution_millis": 594,
        "execution_start": 1606210744329,
        "colab": {
          "base_uri": "https://localhost:8080/"
        },
        "id": "a_avFWK6vLpo",
        "outputId": "487e205a-4f6a-4617-dcaa-f8a312da3725"
      },
      "source": [
        "sp = spacy.load('en_core_web_sm')\n",
        "stop_words = spacy.lang.en.stop_words.STOP_WORDS\n",
        "punctuations = string.punctuation\n",
        "numbers = \"0123456789\"\n",
        "mentions = \"(@[A-Za-z0–9]+)|([⁰-9A-Za-z \\t])|(\\w+:\\/\\/\\S+)\" \n",
        "print('sw ',stop_words)\n",
        "print('punctuation ', punctuations)\n",
        "print(numbers)\n",
        "print(mentions)"
      ],
      "execution_count": 65,
      "outputs": [
        {
          "output_type": "stream",
          "text": [
            "sw  {'her', 'then', 'those', 'meanwhile', 'thereupon', '‘re', 'above', 'yourself', \"n't\", 'whenever', 'anyway', 'many', 'due', 'such', 'fifteen', 'either', 'latter', 'quite', 'regarding', 'so', 'for', 'upon', 'ours', 'four', 'bottom', 'whose', 'becoming', 'during', 'no', 'used', 'with', '‘ll', 'were', 'it', 'some', 'twenty', 'someone', 'ca', 'various', 'themselves', 'nor', 'until', 'whereafter', 'much', '’m', 'part', 'never', 'you', 'beforehand', 'rather', 'is', 'that', 'whereby', 'be', 'yourselves', 'but', 'has', 'behind', 'she', 'does', 'sixty', 'from', 'at', 'me', 'name', 'must', 'thence', 'would', '’s', 'without', 'thru', 'per', 'up', 'elsewhere', 'do', 'beside', 'beyond', 'herself', 'should', 'down', 'whither', 'unless', 'anyone', 'therein', 'further', 'along', 'anyhow', 'both', 'six', '’re', 'mostly', 'noone', 'somewhere', 'within', 'thereafter', \"'s\", 'also', 'thus', 'another', 'front', 'afterwards', 'too', 'when', 'whoever', 'sometime', 'might', 'nowhere', 'nine', 'being', 'more', 'my', 'alone', 'see', 'top', 'moreover', 'own', 'have', 'here', 'go', 'one', 'them', 'everything', 'fifty', 'latterly', 'through', 'whether', 'below', 'our', 'each', 'only', 'call', 'and', 'out', 'among', '’ll', 'any', 'your', 'none', 'except', 'hundred', 'serious', 'ten', 'seemed', 'somehow', 'whatever', 'how', 'in', 'all', 'almost', 'once', 'really', 'while', 'against', 'a', 'keep', 'seeming', 'can', 'or', 'side', '‘d', 'though', 'last', 'cannot', 'everyone', 'wherein', 'am', 'been', 'two', 're', 'across', 'nobody', 'whole', \"'re\", 'which', 'myself', 'what', 'using', 'his', 'yours', 'under', 'as', 'formerly', 'made', 'we', 'whereas', 'although', 'had', 'throughout', \"'m\", 'next', 'n’t', 'again', \"'ll\", 'besides', 'mine', 'already', 'onto', 'take', 'three', 'herein', 'else', 'get', 'i', 'perhaps', 'say', 'still', 'amount', 'otherwise', 'this', 'very', 'between', 'him', 'to', 'toward', '‘m', 'us', 'becomes', 'first', 'often', 'seem', '’d', 'n‘t', 'whom', 'back', 'could', 'himself', 'anywhere', 'the', 'on', 'give', 'namely', 'every', 'there', 'together', 'are', 'he', 'third', '’ve', 'than', 'doing', 'neither', 'same', 'thereby', 'something', 'several', 'these', 'well', 'who', 'they', 'of', 'other', 'twelve', 'hereby', 'wherever', 'hereafter', 'always', 'ever', 'therefore', 'eight', 'after', 'make', 'before', 'was', \"'ve\", 'done', 'everywhere', 'move', 'become', 'did', 'nevertheless', 'about', 'hers', 'now', 'around', 'because', 'five', 'off', 'hereupon', 'put', 'since', '‘s', 'its', 'not', 'eleven', 'however', 'others', 'itself', 'please', 'via', 'their', 'enough', \"'d\", 'even', 'an', 'indeed', 'why', 'former', 'show', 'amongst', 'forty', 'ourselves', 'less', 'whereupon', 'where', 'most', 'will', 'if', 'full', 'sometimes', 'whence', 'yet', 'few', 'by', 'into', 'empty', 'towards', 'over', 'seems', 'least', 'just', '‘ve', 'anything', 'hence', 'nothing', 'may', 'became'}\n",
            "punctuation  !\"#$%&'()*+,-./:;<=>?@[\\]^_`{|}~\n",
            "0123456789\n",
            "(@[A-Za-z0–9]+)|([⁰-9A-Za-z \t])|(\\w+:\\/\\/\\S+)\n"
          ],
          "name": "stdout"
        }
      ]
    },
    {
      "cell_type": "code",
      "metadata": {
        "deepnote_cell_type": "code",
        "id": "6wheylneTN6w",
        "colab": {
          "base_uri": "https://localhost:8080/",
          "height": 403
        },
        "cell_id": "00007-e23d83d2-b806-44f4-8635-4bac4ab1cae2",
        "output_cleared": false,
        "source_hash": "9c35b7b7",
        "execution_millis": 2,
        "execution_start": 1606210744929,
        "outputId": "2e02a7b3-1ea4-4f91-dd45-62cf9f4217dc"
      },
      "source": [
        "#train/test \n",
        "\n",
        "X_train = df[\"text\"]\n",
        "X_test = df_test[\"text\"]\n",
        "y_train = df['target']\n",
        "\n",
        "\n",
        "\n",
        "display((X_train,y_train))\n"
      ],
      "execution_count": 66,
      "outputs": [
        {
          "output_type": "display_data",
          "data": {
            "text/plain": [
              "(0       destroyed Black Eye 9: A space battle occurred...\n",
              " 1       bioterror #world FedEx no longer to transport ...\n",
              " 2       windstorm Reality Training: Train falls off el...\n",
              " 3       hazardous #Taiwan Grace: expect that large roc...\n",
              " 4       hostage New ISIS Video: ISIS Threatens to Behe...\n",
              "                               ...                        \n",
              " 6466    earthquake #Earthquake #Sismo M 1.9 - 15km E o...\n",
              " 6467    derail @EmiiliexIrwin Totally agree.She is 23 ...\n",
              " 6468    trapped Hollywood Movie About Trapped Miners R...\n",
              " 6469    weapons Friendly reminder that the only countr...\n",
              " 6470    buildings%20on%20fire Buildings are on fire an...\n",
              " Name: text, Length: 6471, dtype: object, 0       0\n",
              " 1       0\n",
              " 2       1\n",
              " 3       1\n",
              " 4       1\n",
              "        ..\n",
              " 6466    1\n",
              " 6467    0\n",
              " 6468    1\n",
              " 6469    1\n",
              " 6470    1\n",
              " Name: target, Length: 6471, dtype: int64)"
            ]
          },
          "metadata": {
            "tags": []
          }
        }
      ]
    },
    {
      "cell_type": "code",
      "metadata": {
        "deepnote_cell_type": "code",
        "id": "WxXZV6vFTZVG",
        "cell_id": "00008-968b8355-2575-4e4a-96a4-24c23d4f95a9",
        "output_cleared": false,
        "source_hash": "bf9d469e",
        "execution_millis": 2,
        "execution_start": 1606210744934
      },
      "source": [
        "tfidf_vector = TfidfVectorizer(sublinear_tf=True, min_df=5, norm='l2', encoding='latin-1', ngram_range=(1, 2), tokenizer=spacy_tokenizer)"
      ],
      "execution_count": 67,
      "outputs": []
    },
    {
      "cell_type": "code",
      "metadata": {
        "deepnote_cell_type": "code",
        "colab": {
          "base_uri": "https://localhost:8080/",
          "height": 392
        },
        "id": "ltSD3GihQcCd",
        "cell_id": "00009-c9e28927-7fb5-484b-b026-48caf227c62e",
        "output_cleared": false,
        "source_hash": "e9dc025f",
        "execution_millis": 30,
        "execution_start": 1606210744939,
        "outputId": "12bb45fc-f9dd-4528-f9fc-881241e63fa6"
      },
      "source": [
        "df_test"
      ],
      "execution_count": 68,
      "outputs": [
        {
          "output_type": "execute_result",
          "data": {
            "text/html": [
              "<div>\n",
              "<style scoped>\n",
              "    .dataframe tbody tr th:only-of-type {\n",
              "        vertical-align: middle;\n",
              "    }\n",
              "\n",
              "    .dataframe tbody tr th {\n",
              "        vertical-align: top;\n",
              "    }\n",
              "\n",
              "    .dataframe thead th {\n",
              "        text-align: right;\n",
              "    }\n",
              "</style>\n",
              "<table border=\"1\" class=\"dataframe\">\n",
              "  <thead>\n",
              "    <tr style=\"text-align: right;\">\n",
              "      <th></th>\n",
              "      <th>id</th>\n",
              "      <th>keyword</th>\n",
              "      <th>location</th>\n",
              "      <th>text</th>\n",
              "    </tr>\n",
              "  </thead>\n",
              "  <tbody>\n",
              "    <tr>\n",
              "      <th>0</th>\n",
              "      <td>9972</td>\n",
              "      <td>tsunami</td>\n",
              "      <td>NaN</td>\n",
              "      <td>tsunami Crptotech tsunami and banks.\\n http://...</td>\n",
              "    </tr>\n",
              "    <tr>\n",
              "      <th>1</th>\n",
              "      <td>9865</td>\n",
              "      <td>traumatised</td>\n",
              "      <td>Portsmouth, UK</td>\n",
              "      <td>traumatised I'm that traumatised that I can't ...</td>\n",
              "    </tr>\n",
              "    <tr>\n",
              "      <th>2</th>\n",
              "      <td>1937</td>\n",
              "      <td>burning%20buildings</td>\n",
              "      <td>NaN</td>\n",
              "      <td>burning%20buildings @foxnewsvideo @AIIAmerican...</td>\n",
              "    </tr>\n",
              "    <tr>\n",
              "      <th>3</th>\n",
              "      <td>3560</td>\n",
              "      <td>desolate</td>\n",
              "      <td>NaN</td>\n",
              "      <td>desolate Me watching Law &amp;amp; Order (IB: @sau...</td>\n",
              "    </tr>\n",
              "    <tr>\n",
              "      <th>4</th>\n",
              "      <td>2731</td>\n",
              "      <td>crushed</td>\n",
              "      <td>bahstun/porta reeko</td>\n",
              "      <td>crushed Papi absolutely crushed that ball</td>\n",
              "    </tr>\n",
              "    <tr>\n",
              "      <th>...</th>\n",
              "      <td>...</td>\n",
              "      <td>...</td>\n",
              "      <td>...</td>\n",
              "      <td>...</td>\n",
              "    </tr>\n",
              "    <tr>\n",
              "      <th>1137</th>\n",
              "      <td>3497</td>\n",
              "      <td>derailed</td>\n",
              "      <td>NaN</td>\n",
              "      <td>derailed @ItsQueenBaby I'm at work it's a bunc...</td>\n",
              "    </tr>\n",
              "    <tr>\n",
              "      <th>1138</th>\n",
              "      <td>9191</td>\n",
              "      <td>suicide%20bomber</td>\n",
              "      <td>NaN</td>\n",
              "      <td>suicide%20bomber #?? #?? #??? #??? Suicide bom...</td>\n",
              "    </tr>\n",
              "    <tr>\n",
              "      <th>1139</th>\n",
              "      <td>10217</td>\n",
              "      <td>volcano</td>\n",
              "      <td>NaN</td>\n",
              "      <td>volcano Eruption of Indonesian volcano sparks ...</td>\n",
              "    </tr>\n",
              "    <tr>\n",
              "      <th>1140</th>\n",
              "      <td>5308</td>\n",
              "      <td>fear</td>\n",
              "      <td>New York</td>\n",
              "      <td>fear Never let fear get in the way of achievin...</td>\n",
              "    </tr>\n",
              "    <tr>\n",
              "      <th>1141</th>\n",
              "      <td>8044</td>\n",
              "      <td>refugees</td>\n",
              "      <td>NaN</td>\n",
              "      <td>refugees wowo--=== 12000 Nigerian refugees rep...</td>\n",
              "    </tr>\n",
              "  </tbody>\n",
              "</table>\n",
              "<p>1142 rows × 4 columns</p>\n",
              "</div>"
            ],
            "text/plain": [
              "         id  ...                                               text\n",
              "0      9972  ...  tsunami Crptotech tsunami and banks.\\n http://...\n",
              "1      9865  ...  traumatised I'm that traumatised that I can't ...\n",
              "2      1937  ...  burning%20buildings @foxnewsvideo @AIIAmerican...\n",
              "3      3560  ...  desolate Me watching Law &amp; Order (IB: @sau...\n",
              "4      2731  ...          crushed Papi absolutely crushed that ball\n",
              "...     ...  ...                                                ...\n",
              "1137   3497  ...  derailed @ItsQueenBaby I'm at work it's a bunc...\n",
              "1138   9191  ...  suicide%20bomber #?? #?? #??? #??? Suicide bom...\n",
              "1139  10217  ...  volcano Eruption of Indonesian volcano sparks ...\n",
              "1140   5308  ...  fear Never let fear get in the way of achievin...\n",
              "1141   8044  ...  refugees wowo--=== 12000 Nigerian refugees rep...\n",
              "\n",
              "[1142 rows x 4 columns]"
            ]
          },
          "metadata": {
            "tags": []
          },
          "execution_count": 68
        }
      ]
    },
    {
      "cell_type": "code",
      "metadata": {
        "deepnote_cell_type": "code",
        "colab": {
          "base_uri": "https://localhost:8080/"
        },
        "id": "0BYyuUvYDvrT",
        "cell_id": "00010-da5e66a0-76cd-4ff2-ad6f-56770b0aa8c1",
        "output_cleared": false,
        "source_hash": "d65cf08f",
        "execution_millis": 2,
        "execution_start": 1606210744971,
        "outputId": "d6cc7ee8-aa22-4f12-8698-079581bf4f76"
      },
      "source": [
        "X_test"
      ],
      "execution_count": 69,
      "outputs": [
        {
          "output_type": "execute_result",
          "data": {
            "text/plain": [
              "0       tsunami Crptotech tsunami and banks.\\n http://...\n",
              "1       traumatised I'm that traumatised that I can't ...\n",
              "2       burning%20buildings @foxnewsvideo @AIIAmerican...\n",
              "3       desolate Me watching Law &amp; Order (IB: @sau...\n",
              "4               crushed Papi absolutely crushed that ball\n",
              "                              ...                        \n",
              "1137    derailed @ItsQueenBaby I'm at work it's a bunc...\n",
              "1138    suicide%20bomber #?? #?? #??? #??? Suicide bom...\n",
              "1139    volcano Eruption of Indonesian volcano sparks ...\n",
              "1140    fear Never let fear get in the way of achievin...\n",
              "1141    refugees wowo--=== 12000 Nigerian refugees rep...\n",
              "Name: text, Length: 1142, dtype: object"
            ]
          },
          "metadata": {
            "tags": []
          },
          "execution_count": 69
        }
      ]
    },
    {
      "cell_type": "code",
      "metadata": {
        "deepnote_cell_type": "code",
        "id": "mXC7z0pyT_jX",
        "cell_id": "00011-45898f45-a921-4637-b13d-6dd6c9b48ce7",
        "output_cleared": false,
        "source_hash": "9cbaf7f1",
        "execution_millis": 92767,
        "execution_start": 1606210745019
      },
      "source": [
        "# Define classifier\n",
        "classifier = LogisticRegression(C=1.2067926406393288, max_iter=5000, n_jobs=2,\n",
        "                   random_state=72)\n",
        "\n",
        "# Create pipeline\n",
        "pipe = Pipeline([('vectorizer', tfidf_vector),\n",
        "                 ('classifier', classifier)])\n",
        "pipe.fit(X_train, y_train)\n",
        "y_pred = pipe.predict(X_test)\n",
        "y_pred_s = pipe.predict(X_train)\n",
        "\n"
      ],
      "execution_count": 70,
      "outputs": []
    },
    {
      "cell_type": "code",
      "metadata": {
        "deepnote_cell_type": "code",
        "id": "7JPk_9txEJ8i",
        "cell_id": "00012-2ab2c1ab-51a3-4516-9b8d-e148910b638b",
        "output_cleared": false,
        "source_hash": "b608bba4",
        "execution_millis": 0,
        "colab": {
          "base_uri": "https://localhost:8080/"
        },
        "outputId": "22ec36bd-663b-463e-99ec-8c5c57a99c84"
      },
      "source": [
        "y_pred.shape"
      ],
      "execution_count": 71,
      "outputs": [
        {
          "output_type": "execute_result",
          "data": {
            "text/plain": [
              "(1142,)"
            ]
          },
          "metadata": {
            "tags": []
          },
          "execution_count": 71
        }
      ]
    },
    {
      "cell_type": "code",
      "metadata": {
        "deepnote_cell_type": "code",
        "id": "UvhCsPvOUyj_",
        "cell_id": "00013-52c23ad5-10bc-4e5a-bdf0-f1e0a34dfec7",
        "output_cleared": false,
        "source_hash": "29c9d7a2",
        "execution_millis": 5,
        "colab": {
          "base_uri": "https://localhost:8080/"
        },
        "outputId": "2759587c-2492-4e30-f15a-96c50c4f28f5"
      },
      "source": [
        "print(round(accuracy_score(y_train, y_pred_s), 4))"
      ],
      "execution_count": 72,
      "outputs": [
        {
          "output_type": "stream",
          "text": [
            "0.8583\n"
          ],
          "name": "stdout"
        }
      ]
    },
    {
      "cell_type": "code",
      "metadata": {
        "deepnote_cell_type": "code",
        "id": "1goVNAL1it73",
        "cell_id": "00014-44a429fa-585e-4a9b-923a-de2791294282",
        "output_cleared": false,
        "source_hash": "2b01b4ee",
        "execution_millis": 7
      },
      "source": [
        "test_text = pd.DataFrame(y_pred)\n",
        "test_text.to_csv('test_text.csv' , index = False)"
      ],
      "execution_count": 73,
      "outputs": []
    }
  ]
}