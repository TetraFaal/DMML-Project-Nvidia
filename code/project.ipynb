{
  "nbformat": 4,
  "nbformat_minor": 0,
  "metadata": {
    "colab": {
      "name": "Project.ipynb",
      "provenance": []
	  "include_colab_link": true
    },
    "kernelspec": {
      "name": "python3",
      "display_name": "Python 3"
    }
  },
  "cells": [
    {
      "cell_type": "markdown",
      "metadata": {
        "id": "DNMpRMOnadcQ"
      },
      "source": [
        "# Data Mining & Machine Learning Project - Group Nvidia\n",
        "## By Adrian Sestan, Hugo Macedo & Igor Ranisavljevic"
      ]
    },
    {
      "cell_type": "code",
      "metadata": {
        "id": "L5QXvMkfaaLd"
      },
      "source": [
        ""
      ],
      "execution_count": null,
      "outputs": []
    }
  ]
}