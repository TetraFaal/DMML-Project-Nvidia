{
  "nbformat": 4,
  "nbformat_minor": 0,
  "metadata": {
    "colab": {
      "name": "Project.ipynb",
      "provenance": [],
      "authorship_tag": "ABX9TyNWFDIMHbFotDntmBuirJQv",
      "include_colab_link": true
    },
    "kernelspec": {
      "name": "python3",
      "display_name": "Python 3"
    }
  },
  "cells": [
    {
      "cell_type": "markdown",
      "metadata": {
        "id": "view-in-github",
        "colab_type": "text"
      },
      "source": [
        "<a href=\"https://colab.research.google.com/github/TetraFaal/DMML-Project-Nvidia/blob/master/project/Project.ipynb\" target=\"_parent\"><img src=\"https://colab.research.google.com/assets/colab-badge.svg\" alt=\"Open In Colab\"/></a>"
      ]
    },
    {
      "cell_type": "markdown",
      "metadata": {
        "id": "DNMpRMOnadcQ"
      },
      "source": [
        "# Data Mining & Machine Learning Project - Group Nvidia\n",
        "## By Adrian Sestan, Hugo Macedo & Igor Ranisavljevic"
      ]
    },
    {
      "cell_type": "code",
      "metadata": {
        "id": "L5QXvMkfaaLd"
      },
      "source": [
        ""
      ],
      "execution_count": null,
      "outputs": []
    }
  ]
}